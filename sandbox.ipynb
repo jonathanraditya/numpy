{
 "cells": [
  {
   "cell_type": "code",
   "execution_count": 2,
   "id": "e0aea2ba-5884-4716-a7ae-4e0830c57a9b",
   "metadata": {},
   "outputs": [
    {
     "name": "stdout",
     "output_type": "stream",
     "text": [
      "Python 3.8.18\n",
      "Numpy version: 1.24.3\n"
     ]
    }
   ],
   "source": [
    "import numpy as np\n",
    "\n",
    "!python --version\n",
    "print(f'Numpy version: {np.__version__}')"
   ]
  },
  {
   "cell_type": "markdown",
   "id": "f812d4f9-c2e7-4fab-b28a-d5f985c6a506",
   "metadata": {},
   "source": [
    "## Masked arrays\n",
    "Hide certain value in array without really modifying it's shape.\n",
    "\n",
    "Usually used to mask nan, or mask outlier value."
   ]
  },
  {
   "cell_type": "code",
   "execution_count": 19,
   "id": "3d6748fc-e80b-4a53-a2c3-37811c41a1ec",
   "metadata": {},
   "outputs": [
    {
     "data": {
      "text/plain": [
       "nan"
      ]
     },
     "metadata": {},
     "output_type": "display_data"
    },
    {
     "data": {
      "text/plain": [
       "0.4710848571429584"
      ]
     },
     "metadata": {},
     "output_type": "display_data"
    },
    {
     "data": {
      "text/plain": [
       "-0.5073595961205067"
      ]
     },
     "metadata": {},
     "output_type": "display_data"
    }
   ],
   "source": [
    "a = np.random.randn(3,3)\n",
    "b = a.copy()\n",
    "b[1,1] = np.nan\n",
    "\n",
    "display(b.mean()) # nan\n",
    "\n",
    "m = np.ma.masked_array(b, np.isnan(b))\n",
    "display(m.mean()) # != nan\n",
    "\n",
    "m2 = np.ma.masked_greater(a, 0)\n",
    "display(m2.mean()) # smaller than m.mean()ww"
   ]
  },
  {
   "cell_type": "code",
   "execution_count": 7,
   "id": "3657d7fa-2564-4e91-864e-af3da3f9cfa8",
   "metadata": {},
   "outputs": [
    {
     "data": {
      "text/plain": [
       "numpy.float64"
      ]
     },
     "execution_count": 7,
     "metadata": {},
     "output_type": "execute_result"
    }
   ],
   "source": [
    "type(b.mean())"
   ]
  },
  {
   "cell_type": "code",
   "execution_count": 6,
   "id": "96fa4bbb-f60f-4738-aa32-fc92f1443d00",
   "metadata": {},
   "outputs": [
    {
     "data": {
      "text/plain": [
       "float"
      ]
     },
     "execution_count": 6,
     "metadata": {},
     "output_type": "execute_result"
    }
   ],
   "source": [
    "type(np.nan)"
   ]
  },
  {
   "cell_type": "code",
   "execution_count": null,
   "id": "89eb6273-d906-45fe-95d3-3559dd4399f0",
   "metadata": {},
   "outputs": [],
   "source": []
  }
 ],
 "metadata": {
  "kernelspec": {
   "display_name": "Python [conda env:matplotlib]",
   "language": "python",
   "name": "conda-env-matplotlib-py"
  },
  "language_info": {
   "codemirror_mode": {
    "name": "ipython",
    "version": 3
   },
   "file_extension": ".py",
   "mimetype": "text/x-python",
   "name": "python",
   "nbconvert_exporter": "python",
   "pygments_lexer": "ipython3",
   "version": "3.8.18"
  }
 },
 "nbformat": 4,
 "nbformat_minor": 5
}
