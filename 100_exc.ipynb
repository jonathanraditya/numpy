{
 "cells": [
  {
   "cell_type": "markdown",
   "id": "2f555377-3e85-4736-9b14-76082118d814",
   "metadata": {},
   "source": [
    "Derived from https://github.com/rougier/numpy-100/tree/master with slight modifications"
   ]
  },
  {
   "cell_type": "code",
   "execution_count": 1,
   "id": "ad0d05ee-12b3-4f7d-9472-e0efbc5c2fc6",
   "metadata": {},
   "outputs": [
    {
     "name": "stdout",
     "output_type": "stream",
     "text": [
      "Python 3.8.18\n",
      "Numpy version: 1.24.3\n"
     ]
    }
   ],
   "source": [
    "import numpy as np\n",
    "\n",
    "!python --version\n",
    "print(f'Numpy version: {np.__version__}')"
   ]
  },
  {
   "cell_type": "code",
   "execution_count": null,
   "id": "4a9c0972-f5b3-4d33-b7d1-8158e67c0f3b",
   "metadata": {},
   "outputs": [],
   "source": []
  }
 ],
 "metadata": {
  "kernelspec": {
   "display_name": "Python [conda env:matplotlib]",
   "language": "python",
   "name": "conda-env-matplotlib-py"
  },
  "language_info": {
   "codemirror_mode": {
    "name": "ipython",
    "version": 3
   },
   "file_extension": ".py",
   "mimetype": "text/x-python",
   "name": "python",
   "nbconvert_exporter": "python",
   "pygments_lexer": "ipython3",
   "version": "3.8.18"
  }
 },
 "nbformat": 4,
 "nbformat_minor": 5
}
